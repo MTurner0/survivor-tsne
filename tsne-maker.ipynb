{
 "cells": [
  {
   "cell_type": "code",
   "execution_count": 1,
   "metadata": {},
   "outputs": [],
   "source": [
    "import pandas as pd\n",
    "from sklearn.manifold import TSNE"
   ]
  },
  {
   "cell_type": "code",
   "execution_count": 85,
   "metadata": {},
   "outputs": [],
   "source": [
    "# Load data\n",
    "castaways = pd.read_csv('data/raw/castaways.csv')\n",
    "castaway_details = pd.read_csv('data/raw/castaway_details.csv')\n",
    "confessionals = pd.read_csv('data/raw/confessionals.csv')"
   ]
  },
  {
   "cell_type": "code",
   "execution_count": 86,
   "metadata": {},
   "outputs": [],
   "source": [
    "# Get total confessional count for each castaway\n",
    "confessionals = confessionals.loc[:, ['castaway_id', 'season', 'confessional_count']].groupby(['castaway_id', 'season']).sum()"
   ]
  },
  {
   "cell_type": "code",
   "execution_count": 93,
   "metadata": {},
   "outputs": [],
   "source": [
    "castaways.result = [castaway[15] if pd.notna(castaway[15]) else castaway[14] for castaway in castaways.values]"
   ]
  },
  {
   "cell_type": "code",
   "execution_count": 94,
   "metadata": {},
   "outputs": [],
   "source": [
    "castaways.drop(['city', 'jury_status', 'original_tribe', 'version', 'order', 'episode',\n",
    "                'version_season'],\n",
    "    axis=1, inplace=True)"
   ]
  },
  {
   "cell_type": "code",
   "execution_count": 95,
   "metadata": {},
   "outputs": [],
   "source": [
    "# Ignore Redemption Island/EOE\n",
    "castaways = castaways.groupby(['castaway_id', 'season']).max().reset_index()"
   ]
  },
  {
   "cell_type": "code",
   "execution_count": 106,
   "metadata": {},
   "outputs": [
    {
     "data": {
      "text/plain": [
       "Index(['castaway_id', 'season', 'season_name', 'full_name', 'castaway', 'age',\n",
       "       'state', 'personality_type', 'day', 'result', 'prop_sur'],\n",
       "      dtype='object')"
      ]
     },
     "execution_count": 106,
     "metadata": {},
     "output_type": "execute_result"
    }
   ],
   "source": [
    "castaways.columns"
   ]
  },
  {
   "cell_type": "code",
   "execution_count": 96,
   "metadata": {},
   "outputs": [],
   "source": [
    "m_days = list(castaways.loc[:, ['season', 'day']].groupby(['season']).max()[['day']].day)\n",
    "castaways['prop_sur'] = [row[8]/m_days[row[1] - 1] for row in castaways.values]"
   ]
  },
  {
   "cell_type": "code",
   "execution_count": 97,
   "metadata": {},
   "outputs": [],
   "source": [
    "castaway_details.drop(['full_name', 'personality_type', 'date_of_birth', 'date_of_death', 'occupation',\n",
    "                        'ethnicity', 'race'], axis=1, inplace=True)"
   ]
  },
  {
   "cell_type": "code",
   "execution_count": 98,
   "metadata": {},
   "outputs": [],
   "source": [
    "all_contestants = confessionals.merge(castaways,\n",
    "                                    on=['castaway_id', 'season']).merge(castaway_details,\n",
    "                                    on='castaway_id').dropna()"
   ]
  },
  {
   "cell_type": "code",
   "execution_count": 99,
   "metadata": {},
   "outputs": [
    {
     "data": {
      "text/html": [
       "<div>\n",
       "<style scoped>\n",
       "    .dataframe tbody tr th:only-of-type {\n",
       "        vertical-align: middle;\n",
       "    }\n",
       "\n",
       "    .dataframe tbody tr th {\n",
       "        vertical-align: top;\n",
       "    }\n",
       "\n",
       "    .dataframe thead th {\n",
       "        text-align: right;\n",
       "    }\n",
       "</style>\n",
       "<table border=\"1\" class=\"dataframe\">\n",
       "  <thead>\n",
       "    <tr style=\"text-align: right;\">\n",
       "      <th></th>\n",
       "      <th>castaway_id</th>\n",
       "      <th>season</th>\n",
       "      <th>confessional_count</th>\n",
       "      <th>season_name</th>\n",
       "      <th>full_name</th>\n",
       "      <th>castaway</th>\n",
       "      <th>age</th>\n",
       "      <th>state</th>\n",
       "      <th>personality_type</th>\n",
       "      <th>day</th>\n",
       "      <th>result</th>\n",
       "      <th>prop_sur</th>\n",
       "      <th>short_name</th>\n",
       "      <th>gender</th>\n",
       "      <th>poc</th>\n",
       "    </tr>\n",
       "  </thead>\n",
       "  <tbody>\n",
       "    <tr>\n",
       "      <th>0</th>\n",
       "      <td>US0001</td>\n",
       "      <td>1</td>\n",
       "      <td>2</td>\n",
       "      <td>Survivor: Borneo</td>\n",
       "      <td>Sonja Christopher</td>\n",
       "      <td>Sonja</td>\n",
       "      <td>63</td>\n",
       "      <td>California</td>\n",
       "      <td>ENFP</td>\n",
       "      <td>3.0</td>\n",
       "      <td>1st voted out</td>\n",
       "      <td>0.076923</td>\n",
       "      <td>Sonja</td>\n",
       "      <td>Female</td>\n",
       "      <td>White</td>\n",
       "    </tr>\n",
       "    <tr>\n",
       "      <th>1</th>\n",
       "      <td>US0002</td>\n",
       "      <td>1</td>\n",
       "      <td>11</td>\n",
       "      <td>Survivor: Borneo</td>\n",
       "      <td>B.B. Andersen</td>\n",
       "      <td>B.B.</td>\n",
       "      <td>64</td>\n",
       "      <td>Kansas</td>\n",
       "      <td>ESTJ</td>\n",
       "      <td>6.0</td>\n",
       "      <td>2nd voted out</td>\n",
       "      <td>0.153846</td>\n",
       "      <td>B.B.</td>\n",
       "      <td>Male</td>\n",
       "      <td>White</td>\n",
       "    </tr>\n",
       "    <tr>\n",
       "      <th>2</th>\n",
       "      <td>US0003</td>\n",
       "      <td>1</td>\n",
       "      <td>9</td>\n",
       "      <td>Survivor: Borneo</td>\n",
       "      <td>Stacey Stillman</td>\n",
       "      <td>Stacey</td>\n",
       "      <td>27</td>\n",
       "      <td>California</td>\n",
       "      <td>ENTJ</td>\n",
       "      <td>9.0</td>\n",
       "      <td>3rd voted out</td>\n",
       "      <td>0.230769</td>\n",
       "      <td>Stacey</td>\n",
       "      <td>Female</td>\n",
       "      <td>White</td>\n",
       "    </tr>\n",
       "    <tr>\n",
       "      <th>3</th>\n",
       "      <td>US0004</td>\n",
       "      <td>1</td>\n",
       "      <td>19</td>\n",
       "      <td>Survivor: Borneo</td>\n",
       "      <td>Ramona Gray</td>\n",
       "      <td>Ramona</td>\n",
       "      <td>29</td>\n",
       "      <td>New Jersey</td>\n",
       "      <td>ISTJ</td>\n",
       "      <td>12.0</td>\n",
       "      <td>4th voted out</td>\n",
       "      <td>0.307692</td>\n",
       "      <td>Ramona</td>\n",
       "      <td>Female</td>\n",
       "      <td>POC</td>\n",
       "    </tr>\n",
       "    <tr>\n",
       "      <th>4</th>\n",
       "      <td>US0005</td>\n",
       "      <td>1</td>\n",
       "      <td>11</td>\n",
       "      <td>Survivor: Borneo</td>\n",
       "      <td>Dirk Been</td>\n",
       "      <td>Dirk</td>\n",
       "      <td>23</td>\n",
       "      <td>Wisconsin</td>\n",
       "      <td>ISFP</td>\n",
       "      <td>15.0</td>\n",
       "      <td>5th voted out</td>\n",
       "      <td>0.384615</td>\n",
       "      <td>Dirk</td>\n",
       "      <td>Male</td>\n",
       "      <td>White</td>\n",
       "    </tr>\n",
       "    <tr>\n",
       "      <th>...</th>\n",
       "      <td>...</td>\n",
       "      <td>...</td>\n",
       "      <td>...</td>\n",
       "      <td>...</td>\n",
       "      <td>...</td>\n",
       "      <td>...</td>\n",
       "      <td>...</td>\n",
       "      <td>...</td>\n",
       "      <td>...</td>\n",
       "      <td>...</td>\n",
       "      <td>...</td>\n",
       "      <td>...</td>\n",
       "      <td>...</td>\n",
       "      <td>...</td>\n",
       "      <td>...</td>\n",
       "    </tr>\n",
       "    <tr>\n",
       "      <th>758</th>\n",
       "      <td>US0618</td>\n",
       "      <td>42</td>\n",
       "      <td>6</td>\n",
       "      <td>Survivor: 42</td>\n",
       "      <td>Marya Sherron</td>\n",
       "      <td>Marya</td>\n",
       "      <td>47</td>\n",
       "      <td>Indiana</td>\n",
       "      <td>INFP</td>\n",
       "      <td>5.0</td>\n",
       "      <td>2nd voted out</td>\n",
       "      <td>0.238095</td>\n",
       "      <td>Marya</td>\n",
       "      <td>Female</td>\n",
       "      <td>White</td>\n",
       "    </tr>\n",
       "    <tr>\n",
       "      <th>762</th>\n",
       "      <td>US0622</td>\n",
       "      <td>42</td>\n",
       "      <td>21</td>\n",
       "      <td>Survivor: 42</td>\n",
       "      <td>Rocksroy Bailey</td>\n",
       "      <td>Rocksroy</td>\n",
       "      <td>43</td>\n",
       "      <td>Nevada</td>\n",
       "      <td>ESTJ</td>\n",
       "      <td>17.0</td>\n",
       "      <td>2nd jury member</td>\n",
       "      <td>0.809524</td>\n",
       "      <td>Rocksroy</td>\n",
       "      <td>Male</td>\n",
       "      <td>POC</td>\n",
       "    </tr>\n",
       "    <tr>\n",
       "      <th>764</th>\n",
       "      <td>US0624</td>\n",
       "      <td>42</td>\n",
       "      <td>7</td>\n",
       "      <td>Survivor: 42</td>\n",
       "      <td>Swati Goel</td>\n",
       "      <td>Swati</td>\n",
       "      <td>19</td>\n",
       "      <td>California</td>\n",
       "      <td>ISTJ</td>\n",
       "      <td>9.0</td>\n",
       "      <td>4th voted out</td>\n",
       "      <td>0.428571</td>\n",
       "      <td>Swati</td>\n",
       "      <td>Female</td>\n",
       "      <td>POC</td>\n",
       "    </tr>\n",
       "    <tr>\n",
       "      <th>765</th>\n",
       "      <td>US0625</td>\n",
       "      <td>42</td>\n",
       "      <td>18</td>\n",
       "      <td>Survivor: 42</td>\n",
       "      <td>Tori Meehan</td>\n",
       "      <td>Tori</td>\n",
       "      <td>24</td>\n",
       "      <td>Arizona</td>\n",
       "      <td>ENFJ</td>\n",
       "      <td>17.0</td>\n",
       "      <td>3rd jury member</td>\n",
       "      <td>0.809524</td>\n",
       "      <td>Tori</td>\n",
       "      <td>Female</td>\n",
       "      <td>White</td>\n",
       "    </tr>\n",
       "    <tr>\n",
       "      <th>766</th>\n",
       "      <td>US0626</td>\n",
       "      <td>42</td>\n",
       "      <td>7</td>\n",
       "      <td>Survivor: 42</td>\n",
       "      <td>Zach Wurthenberger</td>\n",
       "      <td>Zach</td>\n",
       "      <td>21</td>\n",
       "      <td>Missouri</td>\n",
       "      <td>INTP</td>\n",
       "      <td>3.0</td>\n",
       "      <td>1st voted out</td>\n",
       "      <td>0.142857</td>\n",
       "      <td>Zach</td>\n",
       "      <td>Male</td>\n",
       "      <td>White</td>\n",
       "    </tr>\n",
       "  </tbody>\n",
       "</table>\n",
       "<p>759 rows × 15 columns</p>\n",
       "</div>"
      ],
      "text/plain": [
       "    castaway_id  season  confessional_count       season_name  \\\n",
       "0        US0001       1                   2  Survivor: Borneo   \n",
       "1        US0002       1                  11  Survivor: Borneo   \n",
       "2        US0003       1                   9  Survivor: Borneo   \n",
       "3        US0004       1                  19  Survivor: Borneo   \n",
       "4        US0005       1                  11  Survivor: Borneo   \n",
       "..          ...     ...                 ...               ...   \n",
       "758      US0618      42                   6      Survivor: 42   \n",
       "762      US0622      42                  21      Survivor: 42   \n",
       "764      US0624      42                   7      Survivor: 42   \n",
       "765      US0625      42                  18      Survivor: 42   \n",
       "766      US0626      42                   7      Survivor: 42   \n",
       "\n",
       "              full_name  castaway  age       state personality_type   day  \\\n",
       "0     Sonja Christopher     Sonja   63  California             ENFP   3.0   \n",
       "1         B.B. Andersen      B.B.   64      Kansas             ESTJ   6.0   \n",
       "2       Stacey Stillman    Stacey   27  California             ENTJ   9.0   \n",
       "3           Ramona Gray    Ramona   29  New Jersey             ISTJ  12.0   \n",
       "4             Dirk Been      Dirk   23   Wisconsin             ISFP  15.0   \n",
       "..                  ...       ...  ...         ...              ...   ...   \n",
       "758       Marya Sherron     Marya   47     Indiana             INFP   5.0   \n",
       "762     Rocksroy Bailey  Rocksroy   43      Nevada             ESTJ  17.0   \n",
       "764          Swati Goel     Swati   19  California             ISTJ   9.0   \n",
       "765         Tori Meehan      Tori   24     Arizona             ENFJ  17.0   \n",
       "766  Zach Wurthenberger      Zach   21    Missouri             INTP   3.0   \n",
       "\n",
       "              result  prop_sur short_name  gender    poc  \n",
       "0      1st voted out  0.076923      Sonja  Female  White  \n",
       "1      2nd voted out  0.153846       B.B.    Male  White  \n",
       "2      3rd voted out  0.230769     Stacey  Female  White  \n",
       "3      4th voted out  0.307692     Ramona  Female    POC  \n",
       "4      5th voted out  0.384615       Dirk    Male  White  \n",
       "..               ...       ...        ...     ...    ...  \n",
       "758    2nd voted out  0.238095      Marya  Female  White  \n",
       "762  2nd jury member  0.809524   Rocksroy    Male    POC  \n",
       "764    4th voted out  0.428571      Swati  Female    POC  \n",
       "765  3rd jury member  0.809524       Tori  Female  White  \n",
       "766    1st voted out  0.142857       Zach    Male  White  \n",
       "\n",
       "[759 rows x 15 columns]"
      ]
     },
     "execution_count": 99,
     "metadata": {},
     "output_type": "execute_result"
    }
   ],
   "source": [
    "all_contestants"
   ]
  },
  {
   "cell_type": "code",
   "execution_count": 100,
   "metadata": {},
   "outputs": [],
   "source": [
    "bio = all_contestants.loc[:, ['full_name', 'season_name', 'state', 'age', 'result']]\n",
    "all_contestants.drop(['castaway_id', 'season_name', 'full_name', 'short_name', 'castaway', 'day', 'result'],\n",
    "                    axis=1, inplace=True)"
   ]
  },
  {
   "cell_type": "code",
   "execution_count": 101,
   "metadata": {},
   "outputs": [],
   "source": [
    "# Make season categorical\n",
    "all_contestants.season = [str(szn) for szn in all_contestants.season]"
   ]
  },
  {
   "cell_type": "code",
   "execution_count": 102,
   "metadata": {},
   "outputs": [],
   "source": [
    "features = pd.get_dummies(all_contestants)"
   ]
  },
  {
   "cell_type": "code",
   "execution_count": 103,
   "metadata": {},
   "outputs": [
    {
     "name": "stderr",
     "output_type": "stream",
     "text": [
      "/home/margaret/.conda/envs/eda-helper/lib/python3.8/site-packages/sklearn/manifold/_t_sne.py:795: FutureWarning: The default initialization in TSNE will change from 'random' to 'pca' in 1.2.\n",
      "  warnings.warn(\n",
      "/home/margaret/.conda/envs/eda-helper/lib/python3.8/site-packages/sklearn/manifold/_t_sne.py:805: FutureWarning: The default learning rate in TSNE will change from 200.0 to 'auto' in 1.2.\n",
      "  warnings.warn(\n"
     ]
    }
   ],
   "source": [
    "projected = TSNE(n_components=2, random_state=1416).fit_transform(features)"
   ]
  },
  {
   "cell_type": "code",
   "execution_count": 104,
   "metadata": {},
   "outputs": [],
   "source": [
    "bio.season_name = [szn_name.split(':')[1] for szn_name in bio.season_name]"
   ]
  },
  {
   "cell_type": "code",
   "execution_count": 105,
   "metadata": {},
   "outputs": [],
   "source": [
    "pd.concat([bio, pd.DataFrame(projected)], axis=1).to_json('data/processed/tsne-results.json', orient='index')"
   ]
  },
  {
   "cell_type": "code",
   "execution_count": 1,
   "metadata": {},
   "outputs": [
    {
     "ename": "NameError",
     "evalue": "name 'all_contestants' is not defined",
     "output_type": "error",
     "traceback": [
      "\u001b[0;31m---------------------------------------------------------------------------\u001b[0m",
      "\u001b[0;31mNameError\u001b[0m                                 Traceback (most recent call last)",
      "\u001b[1;32m/home/margaret/Projects/Data-Viz/survivor-tsne/tsne-maker.ipynb Cell 18'\u001b[0m in \u001b[0;36m<cell line: 1>\u001b[0;34m()\u001b[0m\n\u001b[0;32m----> <a href='vscode-notebook-cell:/home/margaret/Projects/Data-Viz/survivor-tsne/tsne-maker.ipynb#ch0000017?line=0'>1</a>\u001b[0m all_contestants \u001b[39m=\u001b[39m all_contestants\u001b[39m.\u001b[39mcopy()\n\u001b[1;32m      <a href='vscode-notebook-cell:/home/margaret/Projects/Data-Viz/survivor-tsne/tsne-maker.ipynb#ch0000017?line=1'>2</a>\u001b[0m \u001b[39mprint\u001b[39m(all_contestants)\n",
      "\u001b[0;31mNameError\u001b[0m: name 'all_contestants' is not defined"
     ]
    }
   ],
   "source": []
  },
  {
   "cell_type": "code",
   "execution_count": null,
   "metadata": {},
   "outputs": [],
   "source": []
  }
 ],
 "metadata": {
  "interpreter": {
   "hash": "d4baaf1989ac1e9560e0279c1aa48021b8e89490d24ba85b4f5b1dfd0781fc54"
  },
  "kernelspec": {
   "display_name": "Python 3.8.0 ('eda-helper')",
   "language": "python",
   "name": "python3"
  },
  "language_info": {
   "codemirror_mode": {
    "name": "ipython",
    "version": 3
   },
   "file_extension": ".py",
   "mimetype": "text/x-python",
   "name": "python",
   "nbconvert_exporter": "python",
   "pygments_lexer": "ipython3",
   "version": "3.8.0"
  },
  "orig_nbformat": 4
 },
 "nbformat": 4,
 "nbformat_minor": 2
}
